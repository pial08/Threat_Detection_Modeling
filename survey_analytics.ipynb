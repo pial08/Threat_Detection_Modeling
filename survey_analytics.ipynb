{
 "cells": [
  {
   "cell_type": "markdown",
   "metadata": {},
   "source": [
    "# Analytics for Survey\n",
    "### Table of Contents\n",
    " 1. [Install Dependencies](#install-dependencies)\n",
    " 2. [Imports](#imports)\n",
    " 3. [Survey Data Preprocessing](#survey-data-preprocessing)\n",
    " 4. [Paper Statistics](#paper-statistics)"
   ]
  },
  {
   "cell_type": "markdown",
   "metadata": {},
   "source": [
    "## Install Dependencies"
   ]
  },
  {
   "cell_type": "code",
   "execution_count": null,
   "metadata": {},
   "outputs": [],
   "source": [
    "%pip install pandas"
   ]
  },
  {
   "cell_type": "markdown",
   "metadata": {},
   "source": [
    "## Imports"
   ]
  },
  {
   "cell_type": "code",
   "execution_count": null,
   "metadata": {},
   "outputs": [],
   "source": [
    "import pandas as pd"
   ]
  },
  {
   "cell_type": "markdown",
   "metadata": {},
   "source": [
    "## Survey Data Preprocessing"
   ]
  },
  {
   "cell_type": "code",
   "execution_count": null,
   "metadata": {},
   "outputs": [],
   "source": [
    "df = pd.read_csv('path/to/survey')\n",
    "\n",
    "# Sort the DataFrame from the earliest submission time to latest and remove earlier duplicate submissions\n",
    "df.sort_values('Timestamp', inplace=True)\n",
    "df.drop_duplicates('Email Address', inplace=True, keep='last')\n",
    "print(f'{len(df)} total submissions')\n",
    "\n",
    "# Determine which participants were in the assisted or control group\n",
    "form_question_title, = [question_title for question_title in df.columns if question_title.startswith('You will be completing Form')]\n",
    "df['Control Group'] = df[form_question_title].apply(lambda x: x == 'Form B' if pd.notna(x) else x)\n",
    "df.drop(form_question_title, axis=1, inplace=True)\n",
    "print(f'{len(df[df[\"Control Group\"] == True])} participants in the control group; {len(df[df[\"Control Group\"] == False])} participants in the assisted group')"
   ]
  },
  {
   "cell_type": "markdown",
   "metadata": {},
   "source": [
    "## Paper Statistics"
   ]
  },
  {
   "cell_type": "code",
   "execution_count": null,
   "metadata": {},
   "outputs": [],
   "source": [
    "# Education demographics\n",
    "freshmen_sophomore_df = df[df['If you are a an ongoing undergraduate student, what is your current year?'].isin(['First Year', 'Second Yead'])]\n",
    "junior_senior_df = df[df['If you are a an ongoing undergraduate student, what is your current year?'].isin(['Third Year', 'Fourth Year'])]\n",
    "masters_df = df[df['What is your highest level of education?'] == \"Master's Degree or above\"]\n",
    "phd_df = df[df['What is your highest level of education?'] == 'PhD']\n",
    "other_education_df = df[~df.isin(freshmen_sophomore_df) & ~df.isin(junior_senior_df) & ~df.isin(masters_df) & ~df.isin(phd_df)].dropna(how='all')\n",
    "\n",
    "assert len(freshmen_sophomore_df) + len(junior_senior_df) + len(masters_df) + len(phd_df) + len(other_education_df) == len(df)\n",
    "print('Education Demographics:')\n",
    "for label, education_df in {'Freshmen & Sophomores': freshmen_sophomore_df,\n",
    "                            'Juniors & Seniors': junior_senior_df,\n",
    "                            'Masters Students': masters_df,\n",
    "                            'PhD Students': phd_df,\n",
    "                            'Other': other_education_df}.items():\n",
    "    values = education_df['Control Group'].value_counts()\n",
    "    print(f'\\t{label} - Control: {values[True] if True in values else 0}; Assisted: {values[False] if False in values else 0}')\n",
    "\n",
    "# Programming experience\n",
    "print('\\nProgramming Experience:\\n\\tYears of Experience:')\n",
    "for label, count in df['How many years of programming experience do you have?'].value_counts().items():\n",
    "    print(f'\\t\\t{label} - Control: {len(df[(df[\"How many years of programming experience do you have?\"] == label) & (df[\"Control Group\"] == True)])}; ' + \\\n",
    "          f'Assisted: {len(df[(df[\"How many years of programming experience do you have?\"] == label) & (df[\"Control Group\"] == False)])}')\n",
    "\n",
    "print('\\tTesting Methods:')\n",
    "functionality_labels = df['How do you typically test the functionality of your code? (Select all that apply)'].str.split(', ').explode().unique()\n",
    "for label in functionality_labels:\n",
    "    print(f'\\t\\t{label} - Control: {len(df[df[\"How do you typically test the functionality of your code? (Select all that apply)\"].str.count(label) & (df[\"Control Group\"] == True)])}; ' + \\\n",
    "          f'Assisted: {len(df[df[\"How do you typically test the functionality of your code? (Select all that apply)\"].str.count(label) & (df[\"Control Group\"] == False)])}')\n",
    "\n",
    "print('\\tDebugging Methods:')\n",
    "debug_labels = df['How do you typically debug your code when you encounter issues or unexpected behaviors? (Select all that apply)'].str.split(', ').explode().unique()\n",
    "for label in debug_labels:\n",
    "    print(f'\\t\\t{label} - Control: {len(df[df[\"How do you typically debug your code when you encounter issues or unexpected behaviors? (Select all that apply)\"].str.count(label) & (df[\"Control Group\"] == True)])}; ' + \\\n",
    "          f'Assisted: {len(df[df[\"How do you typically debug your code when you encounter issues or unexpected behaviors? (Select all that apply)\"].str.count(label) & (df[\"Control Group\"] == False)])}')\n",
    "\n",
    "print('\\tSecurity Courses Taken:')\n",
    "for label, count in df['Have you received any formal training or certifications specifically in code security?'].value_counts().items():\n",
    "    print(f'\\t\\t{label} - Control: {len(df[(df[\"Have you received any formal training or certifications specifically in code security?\"] == label) & (df[\"Control Group\"] == True)])}; ' + \\\n",
    "          f'Assisted: {len(df[(df[\"Have you received any formal training or certifications specifically in code security?\"] == label) & (df[\"Control Group\"] == False)])}')\n",
    "\n"
   ]
  }
 ],
 "metadata": {
  "kernelspec": {
   "display_name": "Python 3",
   "language": "python",
   "name": "python3"
  },
  "language_info": {
   "codemirror_mode": {
    "name": "ipython",
    "version": 3
   },
   "file_extension": ".py",
   "mimetype": "text/x-python",
   "name": "python",
   "nbconvert_exporter": "python",
   "pygments_lexer": "ipython3",
   "version": "3.12.0"
  }
 },
 "nbformat": 4,
 "nbformat_minor": 2
}
